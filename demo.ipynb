{
 "cells": [
  {
   "cell_type": "markdown",
   "metadata": {},
   "source": [
    "# OctoNet ToolboxDemo\n",
    "In this notebook, we will show how to use OctoNet dataset to select data, train, and test a model."
   ]
  },
  {
   "cell_type": "markdown",
   "metadata": {},
   "source": [
    "## 0. Prerequisites\n",
    "- system: Linux (tested on Ubuntu 20.04, please make adjustments for other systems)\n",
    "- conda environment [(install conda)](https://docs.conda.io/projects/conda/en/latest/user-guide/install/index.html)\n",
    "- git [(install git)](https://git-scm.com/downloads)\n",
    "- wget\n",
    "\n",
    "- clone this repo using \n",
    "\n",
    "```bash\n",
    "git clone https://github.com/aiot-lab/OctoNet.git\n",
    "```"
   ]
  },
  {
   "cell_type": "markdown",
   "metadata": {},
   "source": [
    "## 1. Download dataset\n",
    "Run the following command to download octonet dataset to `octonet/` if haven't."
   ]
  },
  {
   "cell_type": "code",
   "execution_count": null,
   "metadata": {},
   "outputs": [],
   "source": [
    "!bash download_octonet.sh"
   ]
  },
  {
   "cell_type": "markdown",
   "metadata": {},
   "source": [
    "## 2. Installation (conda)\n",
    "Install the conda environment (named `octonet`) from `environment.yaml` file."
   ]
  },
  {
   "cell_type": "code",
   "execution_count": null,
   "metadata": {},
   "outputs": [],
   "source": [
    "!conda env create -f environment.yaml"
   ]
  },
  {
   "cell_type": "markdown",
   "metadata": {},
   "source": [
    "## 3. Import libraries"
   ]
  },
  {
   "cell_type": "code",
   "execution_count": 1,
   "metadata": {},
   "outputs": [],
   "source": [
    "from dataset_visualizer import (\n",
    "    dump_seekthermal_frames_as_png,\n",
    "    visualize_imu_four_rows_no_zscore,\n",
    "    visualize_3_depth_3_rgb_mosaic_batch_discard_excess,\n",
    "    visualize_seekthermal_and_rgb_mosaic_batch_discard_excess,\n",
    "    visualize_4wifi_time_subcarrier_with_camera,\n",
    "    visualize_ira_and_rgb_mosaic_batch_downsample_cam,\n",
    "    visualize_mocap_and_rgb_mosaic_batch_downsample_mocap,\n",
    "    visualize_tof_and_rgb_mosaic_batch_downsample_tof,\n",
    "    visualize_fmcw_and_rgb_mosaic_batch_raw_fixed_axes,\n",
    "    visualize_vayyar_txrx_only_and_camera,\n",
    "    visualize_acoustic_2node_melspectrogram_and_rgb,\n",
    "    visualize_polar_and_camera_batch,\n",
    "    visualize_uwb_and_rgb_in_same_row_with_box,\n",
    ")\n",
    "\n",
    "from dataset_loader import get_dataset, get_dataloader"
   ]
  },
  {
   "cell_type": "markdown",
   "metadata": {},
   "source": [
    "## 4. Select sample data"
   ]
  },
  {
   "cell_type": "code",
   "execution_count": 2,
   "metadata": {},
   "outputs": [
    {
     "name": "stdout",
     "output_type": "stream",
     "text": [
      "No rows discarded.\n"
     ]
    }
   ],
   "source": [
    "# Sample configuration and usage\n",
    "dataset_path = \"dataset\"\n",
    "data_config = {\n",
    "    'user_list': [1],  # Specify which users to filter\n",
    "    'activity_list': ['dance'],  \n",
    "    'node_id': [1, 2, 3, 4, 5], \n",
    "    'segmentation_flag': True,\n",
    "    'modality': [ 'mmWave', 'IRA', 'uwb', 'ToF', 'polar', 'wifi', 'depthCamera', 'seekThermal','acoustic', 'imu', 'vayyar', 'mocap'],\n",
    "    # 'modality': ['polar', 'depthCamera'],\n",
    "    # 'mocap_downsample_num': 6\n",
    "}\n",
    "\n",
    "# Get the DataLoader\n",
    "dataset = get_dataset(data_config, dataset_path)\n",
    "dataloader = get_dataloader(dataset, batch_size=1, shuffle=False, config=data_config)"
   ]
  },
  {
   "cell_type": "markdown",
   "metadata": {},
   "source": [
    "## 5. Visualize the data"
   ]
  },
  {
   "cell_type": "code",
   "execution_count": null,
   "metadata": {},
   "outputs": [
    {
     "name": "stdout",
     "output_type": "stream",
     "text": [
      "[visualize_polar_and_camera_batch] => PDF: viz_output/polar_hr_plus_rgb/polar_hr_dance_user_1.pdf\n"
     ]
    }
   ],
   "source": [
    "for batch in dataloader:\n",
    "    dump_seekthermal_frames_as_png(\n",
    "        batch, \n",
    "        output_dir=\"validation_seekthermal\"\n",
    "    )\n",
    "    visualize_seekthermal_and_rgb_mosaic_batch_discard_excess(\n",
    "        batch,\n",
    "        output_dir='seekthermal_rgb_mosaic_videos',\n",
    "        fps_out=8.80\n",
    "    )\n",
    "    visualize_3_depth_3_rgb_mosaic_batch_discard_excess(\n",
    "        batch,\n",
    "        output_dir='depth_rgb_mosaic_discard',\n",
    "        fps_out=10\n",
    "    )\n",
    "    visualize_4wifi_time_subcarrier_with_camera(\n",
    "        batch,\n",
    "        output_dir='wifi_rgb_mosaic_videos',\n",
    "        fps_out=10.0,\n",
    "        BW=\"40MHz\"\n",
    "    )\n",
    "    visualize_ira_and_rgb_mosaic_batch_downsample_cam(\n",
    "        batch,\n",
    "        output_dir='ira_rgb_mosaic_videos',\n",
    "        fps_out=6.91\n",
    "    )\n",
    "    visualize_mocap_and_rgb_mosaic_batch_downsample_mocap(\n",
    "        batch,\n",
    "        output_dir='mocap_rgb_mosaic_videos',\n",
    "        fps_out=10\n",
    "    )\n",
    "    visualize_tof_and_rgb_mosaic_batch_downsample_tof(\n",
    "        batch,\n",
    "        output_dir='tof_rgb_mosaic_videos',\n",
    "        fps_out=7.32\n",
    "    )\n",
    "    visualize_fmcw_and_rgb_mosaic_batch_raw_fixed_axes(\n",
    "        batch,\n",
    "        output_dir='fmcw_rgb_mosaic',\n",
    "        fps_out=8.81\n",
    "    )\n",
    "    visualize_vayyar_txrx_only_and_camera(\n",
    "        batch,\n",
    "        output_dir=\"vayyar_rgb_mosaic\",\n",
    "        fps_out=10.0\n",
    "    )\n",
    "    visualize_acoustic_2node_melspectrogram_and_rgb(\n",
    "        batch,\n",
    "        output_dir=\"acoustic_melspec_plus_rgb\",\n",
    "        fps_out=10.0\n",
    "    )\n",
    "    visualize_polar_and_camera_batch(\n",
    "        batch,\n",
    "        output_dir=\"polar_hr_plus_rgb\",\n",
    "        fps_out=10.0,\n",
    "        y_domain=None\n",
    "    )\n",
    "    visualize_imu_four_rows_no_zscore(\n",
    "        batch,\n",
    "        output_dir=\"imu_time_features_plus_rgb\",\n",
    "        fps_out=10.0\n",
    "    )\n",
    "    visualize_uwb_and_rgb_in_same_row_with_box(\n",
    "        batch,\n",
    "        output_dir=\"uwb_rgb_same_row_with_box\",\n",
    "        fps_out=10.0\n",
    "    )\n",
    "    break"
   ]
  }
 ],
 "metadata": {
  "kernelspec": {
   "display_name": "octonet",
   "language": "python",
   "name": "python3"
  },
  "language_info": {
   "codemirror_mode": {
    "name": "ipython",
    "version": 3
   },
   "file_extension": ".py",
   "mimetype": "text/x-python",
   "name": "python",
   "nbconvert_exporter": "python",
   "pygments_lexer": "ipython3",
   "version": "3.9.18"
  }
 },
 "nbformat": 4,
 "nbformat_minor": 2
}
